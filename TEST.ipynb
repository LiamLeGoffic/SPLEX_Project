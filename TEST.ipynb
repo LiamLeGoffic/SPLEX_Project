{
 "cells": [
  {
   "cell_type": "code",
   "execution_count": 24,
   "metadata": {},
   "outputs": [],
   "source": [
    "import pandas as pd\n",
    "import numpy as np\n",
    "from collections import Counter\n",
    "import scipy.stats as stats\n",
    "import matplotlib.pyplot as plt\n",
    "import statsmodels.sandbox.stats.multicomp as sm\n",
    "from scipy.stats import spearmanr\n",
    "import matplotlib.pyplot as plt\n",
    "from sklearn import cluster\n",
    "from sklearn.cluster import KMeans\n",
    "from sklearn import metrics\n",
    "from sklearn.cluster import AgglomerativeClustering\n",
    "from sklearn import tree\n",
    "from sklearn.ensemble import RandomForestClassifier\n",
    "from sklearn.model_selection import train_test_split\n",
    "import math\n",
    "import graphviz\n",
    "from collections import Counter"
   ]
  },
  {
   "cell_type": "code",
   "execution_count": 2,
   "metadata": {},
   "outputs": [
    {
     "data": {
      "text/html": [
       "<div>\n",
       "<style scoped>\n",
       "    .dataframe tbody tr th:only-of-type {\n",
       "        vertical-align: middle;\n",
       "    }\n",
       "\n",
       "    .dataframe tbody tr th {\n",
       "        vertical-align: top;\n",
       "    }\n",
       "\n",
       "    .dataframe thead th {\n",
       "        text-align: right;\n",
       "    }\n",
       "</style>\n",
       "<table border=\"1\" class=\"dataframe\">\n",
       "  <thead>\n",
       "    <tr style=\"text-align: right;\">\n",
       "      <th></th>\n",
       "      <th>#</th>\n",
       "      <th>Name</th>\n",
       "      <th>Type 1</th>\n",
       "      <th>Type 2</th>\n",
       "      <th>Total</th>\n",
       "      <th>HP</th>\n",
       "      <th>Attack</th>\n",
       "      <th>Defense</th>\n",
       "      <th>Sp. Atk</th>\n",
       "      <th>Sp. Def</th>\n",
       "      <th>Speed</th>\n",
       "      <th>Generation</th>\n",
       "      <th>Legendary</th>\n",
       "    </tr>\n",
       "  </thead>\n",
       "  <tbody>\n",
       "    <tr>\n",
       "      <th>0</th>\n",
       "      <td>1</td>\n",
       "      <td>Bulbasaur</td>\n",
       "      <td>Grass</td>\n",
       "      <td>Poison</td>\n",
       "      <td>318</td>\n",
       "      <td>45</td>\n",
       "      <td>49</td>\n",
       "      <td>49</td>\n",
       "      <td>65</td>\n",
       "      <td>65</td>\n",
       "      <td>45</td>\n",
       "      <td>1</td>\n",
       "      <td>False</td>\n",
       "    </tr>\n",
       "    <tr>\n",
       "      <th>1</th>\n",
       "      <td>2</td>\n",
       "      <td>Ivysaur</td>\n",
       "      <td>Grass</td>\n",
       "      <td>Poison</td>\n",
       "      <td>405</td>\n",
       "      <td>60</td>\n",
       "      <td>62</td>\n",
       "      <td>63</td>\n",
       "      <td>80</td>\n",
       "      <td>80</td>\n",
       "      <td>60</td>\n",
       "      <td>1</td>\n",
       "      <td>False</td>\n",
       "    </tr>\n",
       "    <tr>\n",
       "      <th>2</th>\n",
       "      <td>3</td>\n",
       "      <td>Venusaur</td>\n",
       "      <td>Grass</td>\n",
       "      <td>Poison</td>\n",
       "      <td>525</td>\n",
       "      <td>80</td>\n",
       "      <td>82</td>\n",
       "      <td>83</td>\n",
       "      <td>100</td>\n",
       "      <td>100</td>\n",
       "      <td>80</td>\n",
       "      <td>1</td>\n",
       "      <td>False</td>\n",
       "    </tr>\n",
       "    <tr>\n",
       "      <th>3</th>\n",
       "      <td>3</td>\n",
       "      <td>VenusaurMega Venusaur</td>\n",
       "      <td>Grass</td>\n",
       "      <td>Poison</td>\n",
       "      <td>625</td>\n",
       "      <td>80</td>\n",
       "      <td>100</td>\n",
       "      <td>123</td>\n",
       "      <td>122</td>\n",
       "      <td>120</td>\n",
       "      <td>80</td>\n",
       "      <td>1</td>\n",
       "      <td>False</td>\n",
       "    </tr>\n",
       "    <tr>\n",
       "      <th>4</th>\n",
       "      <td>4</td>\n",
       "      <td>Charmander</td>\n",
       "      <td>Fire</td>\n",
       "      <td>NaN</td>\n",
       "      <td>309</td>\n",
       "      <td>39</td>\n",
       "      <td>52</td>\n",
       "      <td>43</td>\n",
       "      <td>60</td>\n",
       "      <td>50</td>\n",
       "      <td>65</td>\n",
       "      <td>1</td>\n",
       "      <td>False</td>\n",
       "    </tr>\n",
       "    <tr>\n",
       "      <th>...</th>\n",
       "      <td>...</td>\n",
       "      <td>...</td>\n",
       "      <td>...</td>\n",
       "      <td>...</td>\n",
       "      <td>...</td>\n",
       "      <td>...</td>\n",
       "      <td>...</td>\n",
       "      <td>...</td>\n",
       "      <td>...</td>\n",
       "      <td>...</td>\n",
       "      <td>...</td>\n",
       "      <td>...</td>\n",
       "      <td>...</td>\n",
       "    </tr>\n",
       "    <tr>\n",
       "      <th>795</th>\n",
       "      <td>719</td>\n",
       "      <td>Diancie</td>\n",
       "      <td>Rock</td>\n",
       "      <td>Fairy</td>\n",
       "      <td>600</td>\n",
       "      <td>50</td>\n",
       "      <td>100</td>\n",
       "      <td>150</td>\n",
       "      <td>100</td>\n",
       "      <td>150</td>\n",
       "      <td>50</td>\n",
       "      <td>6</td>\n",
       "      <td>True</td>\n",
       "    </tr>\n",
       "    <tr>\n",
       "      <th>796</th>\n",
       "      <td>719</td>\n",
       "      <td>DiancieMega Diancie</td>\n",
       "      <td>Rock</td>\n",
       "      <td>Fairy</td>\n",
       "      <td>700</td>\n",
       "      <td>50</td>\n",
       "      <td>160</td>\n",
       "      <td>110</td>\n",
       "      <td>160</td>\n",
       "      <td>110</td>\n",
       "      <td>110</td>\n",
       "      <td>6</td>\n",
       "      <td>True</td>\n",
       "    </tr>\n",
       "    <tr>\n",
       "      <th>797</th>\n",
       "      <td>720</td>\n",
       "      <td>HoopaHoopa Confined</td>\n",
       "      <td>Psychic</td>\n",
       "      <td>Ghost</td>\n",
       "      <td>600</td>\n",
       "      <td>80</td>\n",
       "      <td>110</td>\n",
       "      <td>60</td>\n",
       "      <td>150</td>\n",
       "      <td>130</td>\n",
       "      <td>70</td>\n",
       "      <td>6</td>\n",
       "      <td>True</td>\n",
       "    </tr>\n",
       "    <tr>\n",
       "      <th>798</th>\n",
       "      <td>720</td>\n",
       "      <td>HoopaHoopa Unbound</td>\n",
       "      <td>Psychic</td>\n",
       "      <td>Dark</td>\n",
       "      <td>680</td>\n",
       "      <td>80</td>\n",
       "      <td>160</td>\n",
       "      <td>60</td>\n",
       "      <td>170</td>\n",
       "      <td>130</td>\n",
       "      <td>80</td>\n",
       "      <td>6</td>\n",
       "      <td>True</td>\n",
       "    </tr>\n",
       "    <tr>\n",
       "      <th>799</th>\n",
       "      <td>721</td>\n",
       "      <td>Volcanion</td>\n",
       "      <td>Fire</td>\n",
       "      <td>Water</td>\n",
       "      <td>600</td>\n",
       "      <td>80</td>\n",
       "      <td>110</td>\n",
       "      <td>120</td>\n",
       "      <td>130</td>\n",
       "      <td>90</td>\n",
       "      <td>70</td>\n",
       "      <td>6</td>\n",
       "      <td>True</td>\n",
       "    </tr>\n",
       "  </tbody>\n",
       "</table>\n",
       "<p>800 rows × 13 columns</p>\n",
       "</div>"
      ],
      "text/plain": [
       "       #                   Name   Type 1  Type 2  Total  HP  Attack  Defense  \\\n",
       "0      1              Bulbasaur    Grass  Poison    318  45      49       49   \n",
       "1      2                Ivysaur    Grass  Poison    405  60      62       63   \n",
       "2      3               Venusaur    Grass  Poison    525  80      82       83   \n",
       "3      3  VenusaurMega Venusaur    Grass  Poison    625  80     100      123   \n",
       "4      4             Charmander     Fire     NaN    309  39      52       43   \n",
       "..   ...                    ...      ...     ...    ...  ..     ...      ...   \n",
       "795  719                Diancie     Rock   Fairy    600  50     100      150   \n",
       "796  719    DiancieMega Diancie     Rock   Fairy    700  50     160      110   \n",
       "797  720    HoopaHoopa Confined  Psychic   Ghost    600  80     110       60   \n",
       "798  720     HoopaHoopa Unbound  Psychic    Dark    680  80     160       60   \n",
       "799  721              Volcanion     Fire   Water    600  80     110      120   \n",
       "\n",
       "     Sp. Atk  Sp. Def  Speed  Generation  Legendary  \n",
       "0         65       65     45           1      False  \n",
       "1         80       80     60           1      False  \n",
       "2        100      100     80           1      False  \n",
       "3        122      120     80           1      False  \n",
       "4         60       50     65           1      False  \n",
       "..       ...      ...    ...         ...        ...  \n",
       "795      100      150     50           6       True  \n",
       "796      160      110    110           6       True  \n",
       "797      150      130     70           6       True  \n",
       "798      170      130     80           6       True  \n",
       "799      130       90     70           6       True  \n",
       "\n",
       "[800 rows x 13 columns]"
      ]
     },
     "execution_count": 2,
     "metadata": {},
     "output_type": "execute_result"
    }
   ],
   "source": [
    "data = pd.read_csv('Pokemon.csv')\n",
    "data['Type 2']=data['Type 2'].replace('NaN', 'no')\n",
    "data"
   ]
  },
  {
   "cell_type": "code",
   "execution_count": 3,
   "metadata": {},
   "outputs": [],
   "source": [
    "legendaries = data[data['Legendary']==True]\n",
    "commons = data[data['Legendary']==False]"
   ]
  },
  {
   "cell_type": "markdown",
   "metadata": {},
   "source": [
    "## Legendaries"
   ]
  },
  {
   "cell_type": "code",
   "execution_count": 9,
   "metadata": {},
   "outputs": [
    {
     "name": "stdout",
     "output_type": "stream",
     "text": [
      "number : 75\n",
      "average total stats : 630.2666666666667\n",
      "average HP : 93.08\n",
      "average Attack : 113.37333333333333\n",
      "average Defense : 98.93333333333334\n",
      "average Sp. Atk : 119.73333333333333\n",
      "average Sp. Def : 105.01333333333334\n",
      "average Speed : 100.13333333333334\n",
      "Number of legendaries per type : Counter({'Psychic': 17, 'Dragon': 12, 'Water': 8, 'Fire': 5, 'Electric': 4, 'Rock': 4, 'Steel': 4, 'Ground': 4, 'Normal': 4, 'Grass': 3, 'Ice': 2, 'Ghost': 2, 'Dark': 2, 'Flying': 2, 'Bug': 1, 'Fairy': 1})\n",
      "Number of legendaries per generation : Counter({5: 20, 3: 18, 4: 16, 6: 8, 1: 7, 2: 6})\n"
     ]
    }
   ],
   "source": [
    "print('number :', len(legendaries))\n",
    "print('average total stats :', np.mean(legendaries['Total']))\n",
    "for stat in ['HP', 'Attack','Defense', 'Sp. Atk', 'Sp. Def', 'Speed']:\n",
    "    print('average', stat, ':', np.mean(legendaries[stat]))\n",
    "print('Number of legendaries per type :', Counter(legendaries['Type 1']))\n",
    "print('Number of legendaries per generation :', Counter(legendaries['Generation']))\n",
    "#print('IDs :', list(legendaries['#']))"
   ]
  },
  {
   "cell_type": "markdown",
   "metadata": {},
   "source": [
    "## Non-legendaries"
   ]
  },
  {
   "cell_type": "code",
   "execution_count": 8,
   "metadata": {},
   "outputs": [
    {
     "name": "stdout",
     "output_type": "stream",
     "text": [
      "number : 725\n",
      "average stats : 414.9131034482759\n",
      "average HP : 66.79448275862069\n",
      "average Attack : 75.4455172413793\n",
      "average Defense : 71.24689655172413\n",
      "average Sp. Atk : 67.96689655172413\n",
      "average Sp. Def : 68.47724137931034\n",
      "average Speed : 64.98206896551724\n",
      "Number of non-legendaries per type : Counter({'Water': 104, 'Normal': 94, 'Bug': 68, 'Grass': 67, 'Fire': 47, 'Electric': 40, 'Psychic': 40, 'Rock': 40, 'Ghost': 30, 'Dark': 29, 'Poison': 28, 'Ground': 28, 'Fighting': 27, 'Steel': 23, 'Ice': 22, 'Dragon': 20, 'Fairy': 16, 'Flying': 2})\n",
      "Number of non-legendaries per generation : Counter({1: 159, 5: 145, 3: 142, 4: 105, 2: 100, 6: 74})\n"
     ]
    }
   ],
   "source": [
    "print('number :', len(commons))\n",
    "print('average stats :', np.mean(commons['Total']))\n",
    "for stat in ['HP', 'Attack','Defense', 'Sp. Atk', 'Sp. Def', 'Speed']:\n",
    "    print('average', stat, ':', np.mean(commons[stat]))\n",
    "print('Number of non-legendaries per type :', Counter(commons['Type 1']))\n",
    "print('Number of non-legendaries per generation :', Counter(commons['Generation']))\n",
    "#print('IDs :', list(commons['#']))"
   ]
  },
  {
   "cell_type": "code",
   "execution_count": 17,
   "metadata": {},
   "outputs": [],
   "source": [
    "def correlation_columns(data, class_to_predict):\n",
    "    n = np.shape(data)[1]\n",
    "    dict_corr = {}\n",
    "    for feature in data.columns:\n",
    "        if feature==class_to_predict:\n",
    "            continue\n",
    "        corr, pval = spearmanr(data[feature], data[class_to_predict])\n",
    "        dict_corr[feature]= corr, pval\n",
    "    return dict_corr"
   ]
  },
  {
   "cell_type": "code",
   "execution_count": 111,
   "metadata": {},
   "outputs": [
    {
     "data": {
      "text/plain": [
       "{'Type 2': (nan, nan),\n",
       " 'Total': (0.6818641809814782, 1.7761307077750298e-110),\n",
       " 'Sp. Def': (0.5788164910445328, 9.67370266103567e-73),\n",
       " 'Attack': (0.5149946056788183, 2.1597981316449784e-55),\n",
       " 'HP': (0.433401747319042, 5.744027179753025e-38),\n",
       " 'Sp. Atk': (0.31421702523225425, 8.618117974741995e-20),\n",
       " 'Legendary': (0.29099604717222644, 4.457456275161717e-17),\n",
       " '#': (0.11744373856339439, 0.0008742776305834208),\n",
       " 'Speed': (0.09281775844217616, 0.008617925255959499),\n",
       " 'Type 1': (0.08814145729136508, 0.012632174650459651),\n",
       " 'Generation': (0.057776100452835426, 0.10247658852236204),\n",
       " 'Name': (-0.023232001878090134, 0.5117203174792913)}"
      ]
     },
     "execution_count": 111,
     "metadata": {},
     "output_type": "execute_result"
    }
   ],
   "source": [
    "corr_pval = correlation_columns(data, 'Defense')\n",
    "dict(sorted(corr_pval.items(), key=lambda x:x[1], reverse=True))"
   ]
  },
  {
   "cell_type": "code",
   "execution_count": 106,
   "metadata": {},
   "outputs": [
    {
     "name": "stdout",
     "output_type": "stream",
     "text": [
      "1\n",
      "SpearmanrResult(correlation=0.82872942075818, pvalue=3.4080041766115255e-43)\n",
      "2\n",
      "SpearmanrResult(correlation=0.7589466384404111, pvalue=4.287719687643134e-21)\n",
      "3\n",
      "SpearmanrResult(correlation=0.9999999999999999, pvalue=0.0)\n",
      "4\n",
      "SpearmanrResult(correlation=1.0, pvalue=0.0)\n",
      "5\n",
      "SpearmanrResult(correlation=0.9713357558974813, pvalue=1.270259215273478e-103)\n",
      "6\n",
      "SpearmanrResult(correlation=1.0, pvalue=0.0)\n"
     ]
    }
   ],
   "source": [
    "threshold_leg = [144, 243, 377, 480, 638, 716]\n",
    "count=0\n",
    "for gen in range(1, 7):\n",
    "    print(gen)\n",
    "    data_i = data[data['Generation']==gen]\n",
    "    list_id = []\n",
    "    for i in range(len(data_i['#'])):\n",
    "        if data_i['#'][i+count]<threshold_leg[gen-1]:\n",
    "            list_id.append(0)\n",
    "        else:\n",
    "            list_id.append(1)\n",
    "    count+=len(data_i['#'])\n",
    "    print(spearmanr(list_id, data_i['Legendary']))"
   ]
  },
  {
   "cell_type": "code",
   "execution_count": null,
   "metadata": {},
   "outputs": [],
   "source": []
  },
  {
   "cell_type": "code",
   "execution_count": 34,
   "metadata": {},
   "outputs": [
    {
     "data": {
      "text/plain": [
       "<AxesSubplot:>"
      ]
     },
     "execution_count": 34,
     "metadata": {},
     "output_type": "execute_result"
    },
    {
     "data": {
      "image/png": "[encoded data removed]",
      "text/plain": [
       "<Figure size 432x288 with 1 Axes>"
      ]
     },
     "metadata": {
      "needs_background": "light"
     },
     "output_type": "display_data"
    }
   ],
   "source": [
    "list_int_feature=[]\n",
    "for feature in data.columns:\n",
    "    if type(data[feature][0])==np.int64:\n",
    "        list_int_feature.append(feature)\n",
    "data.boxplot(column=list_int_feature)"
   ]
  },
  {
   "cell_type": "markdown",
   "metadata": {},
   "source": [
    "# Clustering by unsupervised learning"
   ]
  },
  {
   "cell_type": "code",
   "execution_count": 107,
   "metadata": {},
   "outputs": [],
   "source": [
    "def clustering_by_unsupervised_learning(data, feature1, feature2, class_to_predict):\n",
    "    X = data[[feature1, feature2]]\n",
    "    Y = data[class_to_predict]\n",
    "    k=2\n",
    "    plt.title(\"Two informative features, one cluster per class\")\n",
    "    plt.scatter(X.iloc[:, 0], X.iloc[:, 1], marker='o', c=Y, s=25, edgecolor='k')\n",
    "    plt.xlabel(feature1)\n",
    "    plt.ylabel(feature2)\n",
    "    plt.show()\n",
    "\n",
    "    # K-mean\n",
    "    km = KMeans(n_clusters=k, init='k-means++', max_iter=100, n_init=1)\n",
    "    km.fit(X)\n",
    "    plt.title(\"K-MEAN\")\n",
    "    plt.scatter(X.iloc[:, 0], X.iloc[:, 1], s=10, c=km.labels_)\n",
    "    plt.xlabel(feature1)\n",
    "    plt.ylabel(feature2)\n",
    "    plt.show()\n",
    "\n",
    "    # Hierarchical clustering\n",
    "    clusterings = []\n",
    "    for linkage in ('ward', 'average', 'complete'):\n",
    "        clustering = AgglomerativeClustering(linkage=linkage, n_clusters=k)\n",
    "        clustering.fit(X)\n",
    "        clusterings.append(clustering)\n",
    "        plt.xlabel(feature1)\n",
    "        plt.ylabel(feature2)\n",
    "        plt.title(\"Hierarchical clustering (\"+linkage+\")\")\n",
    "        plt.scatter(X.iloc[:, 0], X.iloc[:, 1], s=10, c=clustering.labels_)\n",
    "        plt.show()\n",
    "\n",
    "    # Spectral clustering\n",
    "    spectral = cluster.SpectralClustering(n_clusters=k, eigen_solver='arpack', affinity=\"nearest_neighbors\")\n",
    "    spectral.fit(X)\n",
    "    plt.title(\"Spectral Clustering\")\n",
    "    plt.scatter(X.iloc[:, 0], X.iloc[:, 1], s=10, c=spectral.labels_)\n",
    "    plt.xlabel(feature1)\n",
    "    plt.ylabel(feature2)\n",
    "    plt.show()\n",
    "    \n",
    "    return km, clusterings, spectral"
   ]
  },
  {
   "cell_type": "code",
   "execution_count": 108,
   "metadata": {},
   "outputs": [],
   "source": [
    "def evaluation(km, clusterings, spectral):\n",
    "    # comparison of the three methods\n",
    "    methods = ['K-MEAN', 'Clustering(Ward)', 'Clustering (Average)', 'Clustering (Complete)', 'Spectral Clustering']\n",
    "    list_results = [km, clusterings[0], clusterings[1], clusterings[2], spectral]\n",
    "    Scores_1 = [[], [], [], [], []]\n",
    "    \n",
    "    for result in list_results:\n",
    "        Scores_1[0].append(metrics.homogeneity_score(Y, result.labels_))\n",
    "        Scores_1[1].append(metrics.completeness_score(Y, result.labels_))\n",
    "        Scores_1[2].append(metrics.v_measure_score(Y, result.labels_))\n",
    "        Scores_1[3].append(metrics.adjusted_rand_score(Y, result.labels_))\n",
    "        Scores_1[4].append(metrics.silhouette_score(X, result.labels_))\n",
    "    \n",
    "    for i in range(5):\n",
    "        print(methods[i])\n",
    "        print(\"Homogeneity :\", Scores_1[0][i])\n",
    "        print(\"Completeness :\", Scores_1[1][i])\n",
    "        print(\"V-measure :\", Scores_1[2][i])\n",
    "        print(\"Adjusted Rand-Index :\", Scores_1[3][i])\n",
    "        print(\"Silhouette Coefficient :\", Scores_1[4][i], '\\n')"
   ]
  },
  {
   "cell_type": "markdown",
   "metadata": {},
   "source": [
    "## Test on stat total and each stat"
   ]
  },
  {
   "cell_type": "code",
   "execution_count": null,
   "metadata": {
    "scrolled": true
   },
   "outputs": [],
   "source": [
    "for feature in ['HP', 'Attack', 'Defense', 'Sp. Atk', 'Sp. Def', 'Speed']:\n",
    "    print(feature)\n",
    "    km, clusterings, spectral = clustering_by_unsupervised_learning(data, 'Total', feature, 'Legendary')\n",
    "    evaluation(km, clusterings, spectral)"
   ]
  },
  {
   "cell_type": "markdown",
   "metadata": {},
   "source": [
    "# DECISIONS TREE"
   ]
  },
  {
   "cell_type": "code",
   "execution_count": 5,
   "metadata": {},
   "outputs": [],
   "source": [
    "clf = tree.DecisionTreeClassifier(criterion='entropy')\n",
    "feature_int = [feature for feature in data.columns if type(data[feature][0])==np.int64 and feature not in ['Generation', '#']]\n",
    "clf = clf.fit(data[feature_int], data['Legendary'])\n",
    "class_pred_DT = clf.predict(data[feature_int])"
   ]
  },
  {
   "cell_type": "code",
   "execution_count": 6,
   "metadata": {},
   "outputs": [
    {
     "data": {
      "text/plain": [
       "'Lengendary status (entropy).pdf'"
      ]
     },
     "execution_count": 6,
     "metadata": {},
     "output_type": "execute_result"
    }
   ],
   "source": [
    "dot_data = tree.export_graphviz(clf, out_file=None, feature_names=feature_int, \n",
    "                                class_names=['Not Legendary', 'Legendary'], filled=True, rounded=True, special_characters=True)\n",
    "graph = graphviz.Source(dot_data)\n",
    "graph.render('Lengendary status (entropy)')"
   ]
  },
  {
   "cell_type": "code",
   "execution_count": 11,
   "metadata": {},
   "outputs": [
    {
     "data": {
      "text/html": [
       "<div>\n",
       "<style scoped>\n",
       "    .dataframe tbody tr th:only-of-type {\n",
       "        vertical-align: middle;\n",
       "    }\n",
       "\n",
       "    .dataframe tbody tr th {\n",
       "        vertical-align: top;\n",
       "    }\n",
       "\n",
       "    .dataframe thead th {\n",
       "        text-align: right;\n",
       "    }\n",
       "</style>\n",
       "<table border=\"1\" class=\"dataframe\">\n",
       "  <thead>\n",
       "    <tr style=\"text-align: right;\">\n",
       "      <th></th>\n",
       "      <th>Total</th>\n",
       "      <th>HP</th>\n",
       "      <th>Attack</th>\n",
       "      <th>Defense</th>\n",
       "      <th>Sp. Atk</th>\n",
       "      <th>Sp. Def</th>\n",
       "      <th>Speed</th>\n",
       "    </tr>\n",
       "  </thead>\n",
       "  <tbody>\n",
       "    <tr>\n",
       "      <th>0</th>\n",
       "      <td>318</td>\n",
       "      <td>45</td>\n",
       "      <td>49</td>\n",
       "      <td>49</td>\n",
       "      <td>65</td>\n",
       "      <td>65</td>\n",
       "      <td>45</td>\n",
       "    </tr>\n",
       "    <tr>\n",
       "      <th>1</th>\n",
       "      <td>405</td>\n",
       "      <td>60</td>\n",
       "      <td>62</td>\n",
       "      <td>63</td>\n",
       "      <td>80</td>\n",
       "      <td>80</td>\n",
       "      <td>60</td>\n",
       "    </tr>\n",
       "    <tr>\n",
       "      <th>2</th>\n",
       "      <td>525</td>\n",
       "      <td>80</td>\n",
       "      <td>82</td>\n",
       "      <td>83</td>\n",
       "      <td>100</td>\n",
       "      <td>100</td>\n",
       "      <td>80</td>\n",
       "    </tr>\n",
       "    <tr>\n",
       "      <th>3</th>\n",
       "      <td>625</td>\n",
       "      <td>80</td>\n",
       "      <td>100</td>\n",
       "      <td>123</td>\n",
       "      <td>122</td>\n",
       "      <td>120</td>\n",
       "      <td>80</td>\n",
       "    </tr>\n",
       "    <tr>\n",
       "      <th>4</th>\n",
       "      <td>309</td>\n",
       "      <td>39</td>\n",
       "      <td>52</td>\n",
       "      <td>43</td>\n",
       "      <td>60</td>\n",
       "      <td>50</td>\n",
       "      <td>65</td>\n",
       "    </tr>\n",
       "    <tr>\n",
       "      <th>...</th>\n",
       "      <td>...</td>\n",
       "      <td>...</td>\n",
       "      <td>...</td>\n",
       "      <td>...</td>\n",
       "      <td>...</td>\n",
       "      <td>...</td>\n",
       "      <td>...</td>\n",
       "    </tr>\n",
       "    <tr>\n",
       "      <th>795</th>\n",
       "      <td>600</td>\n",
       "      <td>50</td>\n",
       "      <td>100</td>\n",
       "      <td>150</td>\n",
       "      <td>100</td>\n",
       "      <td>150</td>\n",
       "      <td>50</td>\n",
       "    </tr>\n",
       "    <tr>\n",
       "      <th>796</th>\n",
       "      <td>700</td>\n",
       "      <td>50</td>\n",
       "      <td>160</td>\n",
       "      <td>110</td>\n",
       "      <td>160</td>\n",
       "      <td>110</td>\n",
       "      <td>110</td>\n",
       "    </tr>\n",
       "    <tr>\n",
       "      <th>797</th>\n",
       "      <td>600</td>\n",
       "      <td>80</td>\n",
       "      <td>110</td>\n",
       "      <td>60</td>\n",
       "      <td>150</td>\n",
       "      <td>130</td>\n",
       "      <td>70</td>\n",
       "    </tr>\n",
       "    <tr>\n",
       "      <th>798</th>\n",
       "      <td>680</td>\n",
       "      <td>80</td>\n",
       "      <td>160</td>\n",
       "      <td>60</td>\n",
       "      <td>170</td>\n",
       "      <td>130</td>\n",
       "      <td>80</td>\n",
       "    </tr>\n",
       "    <tr>\n",
       "      <th>799</th>\n",
       "      <td>600</td>\n",
       "      <td>80</td>\n",
       "      <td>110</td>\n",
       "      <td>120</td>\n",
       "      <td>130</td>\n",
       "      <td>90</td>\n",
       "      <td>70</td>\n",
       "    </tr>\n",
       "  </tbody>\n",
       "</table>\n",
       "<p>800 rows × 7 columns</p>\n",
       "</div>"
      ],
      "text/plain": [
       "     Total  HP  Attack  Defense  Sp. Atk  Sp. Def  Speed\n",
       "0      318  45      49       49       65       65     45\n",
       "1      405  60      62       63       80       80     60\n",
       "2      525  80      82       83      100      100     80\n",
       "3      625  80     100      123      122      120     80\n",
       "4      309  39      52       43       60       50     65\n",
       "..     ...  ..     ...      ...      ...      ...    ...\n",
       "795    600  50     100      150      100      150     50\n",
       "796    700  50     160      110      160      110    110\n",
       "797    600  80     110       60      150      130     70\n",
       "798    680  80     160       60      170      130     80\n",
       "799    600  80     110      120      130       90     70\n",
       "\n",
       "[800 rows x 7 columns]"
      ]
     },
     "execution_count": 11,
     "metadata": {},
     "output_type": "execute_result"
    }
   ],
   "source": [
    "data[feature_int]"
   ]
  },
  {
   "cell_type": "code",
   "execution_count": 23,
   "metadata": {},
   "outputs": [
    {
     "name": "stdout",
     "output_type": "stream",
     "text": [
      "  (0, 0)\t1\n",
      "  (0, 12)\t1\n",
      "  (0, 13)\t1\n",
      "  (0, 15)\t1\n"
     ]
    },
    {
     "name": "stderr",
     "output_type": "stream",
     "text": [
      "C:\\Users\\llego\\anaconda3\\lib\\site-packages\\sklearn\\base.py:450: UserWarning: X does not have valid feature names, but DecisionTreeClassifier was fitted with feature names\n",
      "  warnings.warn(\n"
     ]
    }
   ],
   "source": [
    "print(clf.decision_path([[700, 100, 180, 120, 30, 70, 200]]))"
   ]
  },
  {
   "cell_type": "code",
   "execution_count": 16,
   "metadata": {},
   "outputs": [
    {
     "name": "stdout",
     "output_type": "stream",
     "text": [
      "Counter({60: 67, 50: 63, 70: 57, 65: 46, 80: 43, 75: 43, 45: 38, 40: 38, 55: 37, 100: 32, 90: 27, 95: 22, 85: 19, 35: 15, 30: 13, 105: 10, 78: 9, 110: 9, 44: 7, 79: 7, 91: 7, 68: 7, 62: 7, 58: 6, 59: 6, 38: 6, 20: 6, 64: 6, 106: 5, 72: 5, 76: 5, 67: 5, 74: 5, 61: 4, 73: 4, 125: 4, 150: 4, 86: 4, 71: 4, 108: 4, 54: 4, 63: 3, 83: 3, 115: 3, 130: 3, 48: 3, 41: 3, 43: 3, 66: 3, 77: 3, 49: 3, 103: 3, 120: 3, 89: 3, 39: 2, 46: 2, 25: 2, 52: 2, 84: 2, 53: 2, 57: 2, 69: 2, 123: 2, 82: 2, 126: 2, 81: 1, 140: 1, 10: 1, 250: 1, 160: 1, 190: 1, 255: 1, 28: 1, 31: 1, 1: 1, 104: 1, 144: 1, 170: 1, 99: 1, 37: 1, 97: 1, 111: 1, 135: 1, 116: 1, 36: 1, 51: 1, 114: 1, 165: 1, 109: 1, 92: 1, 56: 1, 88: 1, 101: 1, 42: 1})\n"
     ]
    }
   ],
   "source": [
    "print(Counter(data['HP']))"
   ]
  },
  {
   "cell_type": "code",
   "execution_count": 27,
   "metadata": {},
   "outputs": [
    {
     "data": {
      "text/plain": [
       "<function matplotlib.pyplot.show(close=None, block=None)>"
      ]
     },
     "execution_count": 27,
     "metadata": {},
     "output_type": "execute_result"
    },
    {
     "data": {
      "image/png": "[encoded data removed]",
      "text/plain": [
       "<Figure size 432x288 with 1 Axes>"
      ]
     },
     "metadata": {
      "needs_background": "light"
     },
     "output_type": "display_data"
    }
   ],
   "source": [
    "tree.plot_tree(clf)\n",
    "plt.show"
   ]
  },
  {
   "cell_type": "code",
   "execution_count": 67,
   "metadata": {},
   "outputs": [
    {
     "data": {
      "image/png": "[encoded data removed]",
      "text/plain": [
       "<Figure size 432x288 with 1 Axes>"
      ]
     },
     "metadata": {
      "needs_background": "light"
     },
     "output_type": "display_data"
    }
   ],
   "source": [
    "rate_common = []\n",
    "for i in range(60, 145, 5):\n",
    "    rate_common.append(len(commons[commons['Speed']<i])/len(data[data['Speed']<i]))\n",
    "plt.plot(range(60, 145, 5), rate_common)\n",
    "plt.show()"
   ]
  },
  {
   "cell_type": "code",
   "execution_count": 120,
   "metadata": {},
   "outputs": [],
   "source": [
    "clf = RandomForestClassifier(max_depth=2, random_state=0)\n",
    "clf.fit(data[feature_int], data['Legendary'])\n",
    "class_pred_RF = clf.predict(data[feature_int])"
   ]
  },
  {
   "cell_type": "code",
   "execution_count": 122,
   "metadata": {},
   "outputs": [
    {
     "name": "stdout",
     "output_type": "stream",
     "text": [
      "[0.39073476 0.08393827 0.04904614 0.06680186 0.18185804 0.08710185\n",
      " 0.14051906]\n"
     ]
    }
   ],
   "source": [
    "importance = clf.feature_importances_\n",
    "print(importance)"
   ]
  },
  {
   "cell_type": "code",
   "execution_count": 125,
   "metadata": {},
   "outputs": [
    {
     "data": {
      "image/png": "[encoded data removed]",
      "text/plain": [
       "<Figure size 432x288 with 1 Axes>"
      ]
     },
     "metadata": {
      "needs_background": "light"
     },
     "output_type": "display_data"
    }
   ],
   "source": [
    "y_ticks = np.arange(0, len(feature_int))\n",
    "fig, ax = plt.subplots()\n",
    "ax.barh(y_ticks, importance)\n",
    "ax.set_yticks(y_ticks)\n",
    "ax.set_yticklabels(feature_int)\n",
    "ax.set_title(\"Random Forest Feature Importances\")\n",
    "fig.tight_layout()\n",
    "plt.show()"
   ]
  },
  {
   "cell_type": "markdown",
   "metadata": {},
   "source": [
    "# LOGISTIC REGRESSION"
   ]
  },
  {
   "cell_type": "code",
   "execution_count": null,
   "metadata": {},
   "outputs": [],
   "source": []
  }
 ],
 "metadata": {
  "kernelspec": {
   "display_name": "Python 3",
   "language": "python",
   "name": "python3"
  },
  "language_info": {
   "codemirror_mode": {
    "name": "ipython",
    "version": 3
   },
   "file_extension": ".py",
   "mimetype": "text/x-python",
   "name": "python",
   "nbconvert_exporter": "python",
   "pygments_lexer": "ipython3",
   "version": "3.9.7"
  }
 },
 "nbformat": 4,
 "nbformat_minor": 4
}
